{
 "cells": [
  {
   "cell_type": "code",
   "execution_count": null,
   "id": "9d632619-f733-4411-ac65-472460f641a7",
   "metadata": {},
   "outputs": [],
   "source": [
    "import pandas as pd\n",
    "import matplotlib.pyplot as plt\n",
    "%matplotlib inline"
   ]
  },
  {
   "cell_type": "code",
   "execution_count": 25,
   "id": "27f61aca-c431-4577-8070-62e71d77136e",
   "metadata": {},
   "outputs": [],
   "source": [
    "path = \"data/DOB_Complaints_Received.csv\"\n",
    "complaints_df= pd.read_csv(path, engine= 'python') #stackoverflow - to search for errors "
   ]
  },
  {
   "cell_type": "code",
   "execution_count": 22,
   "id": "e44e88a5-05bc-45f0-b50c-4aa65183f764",
   "metadata": {},
   "outputs": [
    {
     "data": {
      "text/html": [
       "<div>\n",
       "<style scoped>\n",
       "    .dataframe tbody tr th:only-of-type {\n",
       "        vertical-align: middle;\n",
       "    }\n",
       "\n",
       "    .dataframe tbody tr th {\n",
       "        vertical-align: top;\n",
       "    }\n",
       "\n",
       "    .dataframe thead th {\n",
       "        text-align: right;\n",
       "    }\n",
       "</style>\n",
       "<table border=\"1\" class=\"dataframe\">\n",
       "  <thead>\n",
       "    <tr style=\"text-align: right;\">\n",
       "      <th></th>\n",
       "      <th>Complaint Number</th>\n",
       "      <th>Status</th>\n",
       "      <th>Date Entered</th>\n",
       "      <th>House Number</th>\n",
       "      <th>House Street</th>\n",
       "      <th>ZIP Code</th>\n",
       "      <th>BIN</th>\n",
       "      <th>Community Board</th>\n",
       "      <th>Special District</th>\n",
       "      <th>Complaint Category</th>\n",
       "      <th>Unit</th>\n",
       "      <th>Disposition Date</th>\n",
       "      <th>Disposition Code</th>\n",
       "      <th>Inspection Date</th>\n",
       "      <th>DOBRunDate</th>\n",
       "    </tr>\n",
       "  </thead>\n",
       "  <tbody>\n",
       "    <tr>\n",
       "      <th>0</th>\n",
       "      <td>1000008</td>\n",
       "      <td>CLOSED</td>\n",
       "      <td>01/03/1989</td>\n",
       "      <td>101</td>\n",
       "      <td>1 AVENUE</td>\n",
       "      <td>10003</td>\n",
       "      <td>1006289</td>\n",
       "      <td>103</td>\n",
       "      <td>NaN</td>\n",
       "      <td>03</td>\n",
       "      <td>MAN.</td>\n",
       "      <td>01/04/1989</td>\n",
       "      <td>I2</td>\n",
       "      <td>01/03/1989</td>\n",
       "      <td>2023-11-16</td>\n",
       "    </tr>\n",
       "    <tr>\n",
       "      <th>1</th>\n",
       "      <td>1000009</td>\n",
       "      <td>CLOSED</td>\n",
       "      <td>01/03/1989</td>\n",
       "      <td>101</td>\n",
       "      <td>1 AVENUE</td>\n",
       "      <td>10003</td>\n",
       "      <td>1006289</td>\n",
       "      <td>103</td>\n",
       "      <td>NaN</td>\n",
       "      <td>01</td>\n",
       "      <td>MAN.</td>\n",
       "      <td>01/04/1989</td>\n",
       "      <td>I2</td>\n",
       "      <td>01/04/1989</td>\n",
       "      <td>2023-11-16</td>\n",
       "    </tr>\n",
       "    <tr>\n",
       "      <th>2</th>\n",
       "      <td>4000001</td>\n",
       "      <td>CLOSED</td>\n",
       "      <td>01/03/1989</td>\n",
       "      <td>255-17</td>\n",
       "      <td>IOWA ROAD</td>\n",
       "      <td>11362</td>\n",
       "      <td>4171655</td>\n",
       "      <td>411</td>\n",
       "      <td>NaN</td>\n",
       "      <td>45</td>\n",
       "      <td>QNS.</td>\n",
       "      <td>02/21/1996</td>\n",
       "      <td>C2</td>\n",
       "      <td>03/27/1989</td>\n",
       "      <td>2023-11-16</td>\n",
       "    </tr>\n",
       "    <tr>\n",
       "      <th>3</th>\n",
       "      <td>1000017</td>\n",
       "      <td>CLOSED</td>\n",
       "      <td>01/03/1989</td>\n",
       "      <td>179</td>\n",
       "      <td>WEST BROADWAY</td>\n",
       "      <td>10013</td>\n",
       "      <td>1001966</td>\n",
       "      <td>101</td>\n",
       "      <td>NaN</td>\n",
       "      <td>31</td>\n",
       "      <td>MAN.</td>\n",
       "      <td>01/06/1989</td>\n",
       "      <td>I2</td>\n",
       "      <td>01/04/1989</td>\n",
       "      <td>2023-11-16</td>\n",
       "    </tr>\n",
       "    <tr>\n",
       "      <th>4</th>\n",
       "      <td>1000022</td>\n",
       "      <td>CLOSED</td>\n",
       "      <td>01/03/1989</td>\n",
       "      <td>133</td>\n",
       "      <td>EAST 22 STREET</td>\n",
       "      <td>10010</td>\n",
       "      <td>1086544</td>\n",
       "      <td>106</td>\n",
       "      <td>NaN</td>\n",
       "      <td>46</td>\n",
       "      <td>MAN.</td>\n",
       "      <td>01/06/1989</td>\n",
       "      <td>A1</td>\n",
       "      <td>01/04/1989</td>\n",
       "      <td>2023-11-16</td>\n",
       "    </tr>\n",
       "  </tbody>\n",
       "</table>\n",
       "</div>"
      ],
      "text/plain": [
       "   Complaint Number  Status Date Entered House Number    House Street  \\\n",
       "0           1000008  CLOSED   01/03/1989          101        1 AVENUE   \n",
       "1           1000009  CLOSED   01/03/1989          101        1 AVENUE   \n",
       "2           4000001  CLOSED   01/03/1989       255-17       IOWA ROAD   \n",
       "3           1000017  CLOSED   01/03/1989          179   WEST BROADWAY   \n",
       "4           1000022  CLOSED   01/03/1989          133  EAST 22 STREET   \n",
       "\n",
       "  ZIP Code      BIN Community Board Special District Complaint Category  Unit  \\\n",
       "0    10003  1006289             103              NaN                 03  MAN.   \n",
       "1    10003  1006289             103              NaN                 01  MAN.   \n",
       "2    11362  4171655             411              NaN                 45  QNS.   \n",
       "3    10013  1001966             101              NaN                 31  MAN.   \n",
       "4    10010  1086544             106              NaN                 46  MAN.   \n",
       "\n",
       "  Disposition Date Disposition Code Inspection Date  DOBRunDate  \n",
       "0       01/04/1989               I2      01/03/1989  2023-11-16  \n",
       "1       01/04/1989               I2      01/04/1989  2023-11-16  \n",
       "2       02/21/1996               C2      03/27/1989  2023-11-16  \n",
       "3       01/06/1989               I2      01/04/1989  2023-11-16  \n",
       "4       01/06/1989               A1      01/04/1989  2023-11-16  "
      ]
     },
     "execution_count": 22,
     "metadata": {},
     "output_type": "execute_result"
    }
   ],
   "source": [
    "complaints_df.head()"
   ]
  },
  {
   "cell_type": "code",
   "execution_count": 26,
   "id": "620b0d18-768e-46a8-a693-f2defc8815cd",
   "metadata": {},
   "outputs": [
    {
     "ename": "AttributeError",
     "evalue": "'Series' object has no attribute 'values_counts'",
     "output_type": "error",
     "traceback": [
      "\u001b[1;31m---------------------------------------------------------------------------\u001b[0m",
      "\u001b[1;31mAttributeError\u001b[0m                            Traceback (most recent call last)",
      "\u001b[1;32m~\\AppData\\Local\\Temp\\ipykernel_28360\\1920247595.py\u001b[0m in \u001b[0;36m?\u001b[1;34m()\u001b[0m\n\u001b[1;32m----> 1\u001b[1;33m \u001b[0mcomplaints_df\u001b[0m\u001b[1;33m.\u001b[0m\u001b[0mStatus\u001b[0m\u001b[1;33m.\u001b[0m\u001b[0mvalues_counts\u001b[0m\u001b[1;33m(\u001b[0m\u001b[1;33m)\u001b[0m\u001b[1;33m\u001b[0m\u001b[1;33m\u001b[0m\u001b[0m\n\u001b[0m",
      "\u001b[1;32m~\\Class05Demo\\venv\\Lib\\site-packages\\pandas\\core\\generic.py\u001b[0m in \u001b[0;36m?\u001b[1;34m(self, name)\u001b[0m\n\u001b[0;32m   6200\u001b[0m             \u001b[1;32mand\u001b[0m \u001b[0mname\u001b[0m \u001b[1;32mnot\u001b[0m \u001b[1;32min\u001b[0m \u001b[0mself\u001b[0m\u001b[1;33m.\u001b[0m\u001b[0m_accessors\u001b[0m\u001b[1;33m\u001b[0m\u001b[1;33m\u001b[0m\u001b[0m\n\u001b[0;32m   6201\u001b[0m             \u001b[1;32mand\u001b[0m \u001b[0mself\u001b[0m\u001b[1;33m.\u001b[0m\u001b[0m_info_axis\u001b[0m\u001b[1;33m.\u001b[0m\u001b[0m_can_hold_identifiers_and_holds_name\u001b[0m\u001b[1;33m(\u001b[0m\u001b[0mname\u001b[0m\u001b[1;33m)\u001b[0m\u001b[1;33m\u001b[0m\u001b[1;33m\u001b[0m\u001b[0m\n\u001b[0;32m   6202\u001b[0m         \u001b[1;33m)\u001b[0m\u001b[1;33m:\u001b[0m\u001b[1;33m\u001b[0m\u001b[1;33m\u001b[0m\u001b[0m\n\u001b[0;32m   6203\u001b[0m             \u001b[1;32mreturn\u001b[0m \u001b[0mself\u001b[0m\u001b[1;33m[\u001b[0m\u001b[0mname\u001b[0m\u001b[1;33m]\u001b[0m\u001b[1;33m\u001b[0m\u001b[1;33m\u001b[0m\u001b[0m\n\u001b[1;32m-> 6204\u001b[1;33m         \u001b[1;32mreturn\u001b[0m \u001b[0mobject\u001b[0m\u001b[1;33m.\u001b[0m\u001b[0m__getattribute__\u001b[0m\u001b[1;33m(\u001b[0m\u001b[0mself\u001b[0m\u001b[1;33m,\u001b[0m \u001b[0mname\u001b[0m\u001b[1;33m)\u001b[0m\u001b[1;33m\u001b[0m\u001b[1;33m\u001b[0m\u001b[0m\n\u001b[0m",
      "\u001b[1;31mAttributeError\u001b[0m: 'Series' object has no attribute 'values_counts'"
     ]
    }
   ],
   "source": [
    "complaints_df.Status.values_counts()"
   ]
  },
  {
   "cell_type": "code",
   "execution_count": 29,
   "id": "9fa90913-813b-409c-969d-8a0164641533",
   "metadata": {},
   "outputs": [
    {
     "ename": "NameError",
     "evalue": "name 'complaints' is not defined",
     "output_type": "error",
     "traceback": [
      "\u001b[1;31m---------------------------------------------------------------------------\u001b[0m",
      "\u001b[1;31mNameError\u001b[0m                                 Traceback (most recent call last)",
      "Cell \u001b[1;32mIn[29], line 1\u001b[0m\n\u001b[1;32m----> 1\u001b[0m active_complaints_df \u001b[38;5;241m=\u001b[39m \u001b[43mcomplaints\u001b[49m [[complainst \u001b[38;5;28;01mfor\u001b[39;00m complaint \u001b[38;5;129;01min\u001b[39;00m complaints_df\u001b[38;5;241m.\u001b[39mStatus \u001b[38;5;241m==\u001b[39m \u001b[38;5;124m'\u001b[39m\u001b[38;5;124mACTIVE\u001b[39m\u001b[38;5;124m'\u001b[39m]]\n",
      "\u001b[1;31mNameError\u001b[0m: name 'complaints' is not defined"
     ]
    }
   ],
   "source": [
    "active_complaints_df = complaints [[complainst for complaint in complaints_df.Status == 'ACTIVE']]"
   ]
  },
  {
   "cell_type": "code",
   "execution_count": 27,
   "id": "483d0a8f-537b-4242-8e02-645f443f1127",
   "metadata": {},
   "outputs": [
    {
     "ename": "NameError",
     "evalue": "name 'active_complaints_df' is not defined",
     "output_type": "error",
     "traceback": [
      "\u001b[1;31m---------------------------------------------------------------------------\u001b[0m",
      "\u001b[1;31mNameError\u001b[0m                                 Traceback (most recent call last)",
      "Cell \u001b[1;32mIn[27], line 1\u001b[0m\n\u001b[1;32m----> 1\u001b[0m \u001b[43mactive_complaints_df\u001b[49m\n",
      "\u001b[1;31mNameError\u001b[0m: name 'active_complaints_df' is not defined"
     ]
    }
   ],
   "source": [
    "active_complaints_df"
   ]
  },
  {
   "cell_type": "code",
   "execution_count": 28,
   "id": "89442e81-4c39-4fc6-b2c1-5cee84f27520",
   "metadata": {},
   "outputs": [
    {
     "ename": "SyntaxError",
     "evalue": "unterminated string literal (detected at line 1) (998121446.py, line 1)",
     "output_type": "error",
     "traceback": [
      "\u001b[1;36m  Cell \u001b[1;32mIn[28], line 1\u001b[1;36m\u001b[0m\n\u001b[1;33m    active_complaints_df['House_Number]\u001b[0m\n\u001b[1;37m                         ^\u001b[0m\n\u001b[1;31mSyntaxError\u001b[0m\u001b[1;31m:\u001b[0m unterminated string literal (detected at line 1)\n"
     ]
    }
   ],
   "source": [
    "active_complaints_df['House_Number]"
   ]
  },
  {
   "cell_type": "code",
   "execution_count": null,
   "id": "1daa8d35-94cc-405d-b691-eb514f4c9864",
   "metadata": {},
   "outputs": [],
   "source": [
    "elevator_accidents_df = [[x for x in active_complaints_df['Complaint Category']]"
   ]
  }
 ],
 "metadata": {
  "kernelspec": {
   "display_name": "Python 3 (ipykernel)",
   "language": "python",
   "name": "python3"
  },
  "language_info": {
   "codemirror_mode": {
    "name": "ipython",
    "version": 3
   },
   "file_extension": ".py",
   "mimetype": "text/x-python",
   "name": "python",
   "nbconvert_exporter": "python",
   "pygments_lexer": "ipython3",
   "version": "3.12.0"
  }
 },
 "nbformat": 4,
 "nbformat_minor": 5
}
